{
  "nbformat": 4,
  "nbformat_minor": 0,
  "metadata": {
    "colab": {
      "provenance": []
    },
    "kernelspec": {
      "name": "python3",
      "display_name": "Python 3"
    },
    "language_info": {
      "name": "python"
    }
  },
  "cells": [
    {
      "cell_type": "code",
      "execution_count": 3,
      "metadata": {
        "id": "xMmstQsnw_yG"
      },
      "outputs": [],
      "source": [
        "import pandas as pd\n",
        "import numpy as np\n",
        "import matplotlib.pyplot as plt#used for plotting graph\n",
        "import seaborn as sns#ised for plotting graph and used for daat visualisation\n",
        "from sklearn.tree import DecisionTreeClassifier#used for clasification\n",
        "from sklearn.linear_model import LogisticRegression#used for solving binary classification problems\n",
        "from sklearn.naive_bayes import BernoulliNB#predict a binary target variable  and here the input features are independent of each other.\n",
        "from sklearn.model_selection import train_test_split# It is used to split a dataset into two subsets: a training set and a test set.\n",
        "#The training set is used to train a machine learning model, while the test set is used to evaluate the performance of the model on unseen data.\n",
        "from sklearn.metrics import accuracy_score#t is used to calculate the accuracy of a machine learning model's predictions.\n",
        "from sklearn.preprocessing import LabelEncoder#It is used to encode categorical labels as numerical values.\n",
        "from sklearn.metrics import precision_score, recall_score, f1_score\n",
        "#This above one are used to calculate different measures of a machine learning model's performance.\n"
      ]
    },
    {
      "cell_type": "code",
      "source": [
        "df1 = pd.read_csv(\"caffeine.csv\")\n",
        "#The read_csv() function is a pandas function that reads a CSV file into a pandas DataFrame\n",
        "df1.info()\n",
        "# This function displays a summary of the DataFrame's columns, the number of non-null values in each column, and the data type of each column."
      ],
      "metadata": {
        "colab": {
          "base_uri": "https://localhost:8080/"
        },
        "id": "MWong3acx0p7",
        "outputId": "696ca0ad-9394-4a50-c5a1-a473416f8b62"
      },
      "execution_count": 4,
      "outputs": [
        {
          "output_type": "stream",
          "name": "stdout",
          "text": [
            "<class 'pandas.core.frame.DataFrame'>\n",
            "RangeIndex: 610 entries, 0 to 609\n",
            "Data columns (total 5 columns):\n",
            " #   Column         Non-Null Count  Dtype  \n",
            "---  ------         --------------  -----  \n",
            " 0   drink          610 non-null    object \n",
            " 1   Volume (ml)    610 non-null    float64\n",
            " 2   Calories       610 non-null    int64  \n",
            " 3   Caffeine (mg)  610 non-null    int64  \n",
            " 4   type           610 non-null    object \n",
            "dtypes: float64(1), int64(2), object(2)\n",
            "memory usage: 24.0+ KB\n"
          ]
        }
      ]
    },
    {
      "cell_type": "code",
      "source": [
        "#df1 = df1.drop(columns=[\"drink\"])\n",
        "df1.rename({\"Caffeine (mg)\":\"Caffeine\"}, axis=1, inplace=True)\n",
        "#rename is used for giving the new col names for the old cols\n",
        "#inplace = true gives that original df should be modified instead of creating new df\n",
        "df1.nunique()\n",
        "#to count the number of unique values in each column of the DataFrame."
      ],
      "metadata": {
        "colab": {
          "base_uri": "https://localhost:8080/"
        },
        "id": "iRhXBtqax-MJ",
        "outputId": "9c125eae-2301-4967-dd24-0dd310566a4c"
      },
      "execution_count": 5,
      "outputs": [
        {
          "output_type": "execute_result",
          "data": {
            "text/plain": [
              "drink          610\n",
              "Volume (ml)     70\n",
              "Calories        98\n",
              "Caffeine       162\n",
              "type             6\n",
              "dtype: int64"
            ]
          },
          "metadata": {},
          "execution_count": 5
        }
      ]
    },
    {
      "cell_type": "markdown",
      "source": [
        "**Data Preprocessing**"
      ],
      "metadata": {
        "id": "0IKNXDm_tSeJ"
      }
    },
    {
      "cell_type": "code",
      "source": [
        "#preprocessing\n",
        "df1.isnull().sum()"
      ],
      "metadata": {
        "colab": {
          "base_uri": "https://localhost:8080/"
        },
        "id": "FnUza6wGgEU3",
        "outputId": "6c91fdc1-102e-4ea2-9f5e-4836e2c86346"
      },
      "execution_count": 6,
      "outputs": [
        {
          "output_type": "execute_result",
          "data": {
            "text/plain": [
              "drink          0\n",
              "Volume (ml)    0\n",
              "Calories       0\n",
              "Caffeine       0\n",
              "type           0\n",
              "dtype: int64"
            ]
          },
          "metadata": {},
          "execution_count": 6
        }
      ]
    },
    {
      "cell_type": "code",
      "source": [
        "df1.duplicated().sum()"
      ],
      "metadata": {
        "colab": {
          "base_uri": "https://localhost:8080/"
        },
        "id": "ZM4D_X0OgGsl",
        "outputId": "b2e2e245-e583-46fc-e4bb-fda97bc3303f"
      },
      "execution_count": 7,
      "outputs": [
        {
          "output_type": "execute_result",
          "data": {
            "text/plain": [
              "0"
            ]
          },
          "metadata": {},
          "execution_count": 7
        }
      ]
    },
    {
      "cell_type": "code",
      "source": [
        "df1['type'].value_counts()#gives different types of drinks and number of times it repeated in dataset\n",
        "#returns the count of all unique values"
      ],
      "metadata": {
        "colab": {
          "base_uri": "https://localhost:8080/"
        },
        "id": "dR5j0kl9gKuM",
        "outputId": "e3c45de5-f03e-4ceb-9059-7e682beea59b"
      },
      "execution_count": 8,
      "outputs": [
        {
          "output_type": "execute_result",
          "data": {
            "text/plain": [
              "Energy Drinks    219\n",
              "Coffee           173\n",
              "Soft Drinks       90\n",
              "Tea               66\n",
              "Energy Shots      36\n",
              "Water             26\n",
              "Name: type, dtype: int64"
            ]
          },
          "metadata": {},
          "execution_count": 8
        }
      ]
    },
    {
      "cell_type": "code",
      "source": [
        "#The sns.barplot() function creates the bar plot itself\n",
        "#The plt.figure(figsize=(15,5)) line sets the size of the figure that will be displayed to 15 inches wide and 5 inches tall.\n",
        "#The data=df1 argument specifies that the data for the plot should come from the df1"
      ],
      "metadata": {
        "id": "UxOCRBPNgRwz"
      },
      "execution_count": 9,
      "outputs": []
    },
    {
      "cell_type": "code",
      "source": [
        "plt.figure(figsize=(15,5))\n",
        "sns.barplot(x='type',y='Caffeine',data = df1)\n",
        "plt.title('Beverage Type vs Caffeine')\n",
        "plt.xlabel('Beverage Type')\n",
        "plt.ylabel('Caffeine')\n",
        "plt.show()\n"
      ],
      "metadata": {
        "colab": {
          "base_uri": "https://localhost:8080/",
          "height": 375
        },
        "id": "_HEYoRbTgRjd",
        "outputId": "132d0b52-32be-405e-ba44-08cea378dd7f"
      },
      "execution_count": 10,
      "outputs": [
        {
          "output_type": "display_data",
          "data": {
            "text/plain": [
              "<Figure size 1500x500 with 1 Axes>"
            ],
            "image/png": "[encoded data removed]"
          },
          "metadata": {}
        }
      ]
    },
    {
      "cell_type": "code",
      "source": [
        "#The first line uses the pd.get_dummies() function to convert the categorical column \"type\" into one-hot encoded columns\n",
        "# This function creates a new DataFrame type_en where each unique value in \"type\" becomes a new column with binary values\n",
        "#indicating whether or not that value is present in each row of the original \"type\" column.\n",
        "#The second line creates a copy of df1 and removes the \"type\" column using the drop() function with axis=1 (meaning drop the column, not the row).\n",
        "#The third line concatenates the new one-hot encoded type_en DataFrame with the original df2 DataFrame using the pd.concat() function with axis=1."
      ],
      "metadata": {
        "id": "-JnRc1oAWqHc"
      },
      "execution_count": 11,
      "outputs": []
    },
    {
      "cell_type": "code",
      "source": [
        "\n",
        "type_en = pd.get_dummies(df1[\"type\"])\n",
        "df2 = df1.copy()\n",
        "df2.drop(\"type\", axis=1, inplace=True)\n",
        "df2 = pd.concat([df2, type_en], axis=1)\n",
        "df2.head()\n",
        "df2"
      ],
      "metadata": {
        "colab": {
          "base_uri": "https://localhost:8080/",
          "height": 520
        },
        "id": "CgVWTgqPj-nE",
        "outputId": "fc6654e4-6e4e-4219-96f8-012f9c10a0f6"
      },
      "execution_count": 12,
      "outputs": [
        {
          "output_type": "execute_result",
          "data": {
            "text/plain": [
              "                           drink  Volume (ml)  Calories  Caffeine  Coffee  \\\n",
              "0                   Costa Coffee   256.993715         0       277       1   \n",
              "1    Coffee Friend Brewed Coffee   250.191810         0       145       1   \n",
              "2             Hell Energy Coffee   250.191810       150       100       1   \n",
              "3             Killer Coffee (AU)   250.191810         0       430       1   \n",
              "4                   Nescafe Gold   250.191810         0        66       1   \n",
              "..                           ...          ...       ...       ...     ...   \n",
              "605     Pep Talk Sparkling Water   354.882000         0        55       0   \n",
              "606          Polar Seltzer Water   354.882000         0         0       0   \n",
              "607       Yerbae Sparkling Water   354.882000         0       100       0   \n",
              "608                  Tonic Water   295.735000       110         0       0   \n",
              "609    MiO Energy Water Enhancer   236.588000         0        60       0   \n",
              "\n",
              "     Energy Drinks  Energy Shots  Soft Drinks  Tea  Water  \n",
              "0                0             0            0    0      0  \n",
              "1                0             0            0    0      0  \n",
              "2                0             0            0    0      0  \n",
              "3                0             0            0    0      0  \n",
              "4                0             0            0    0      0  \n",
              "..             ...           ...          ...  ...    ...  \n",
              "605              0             0            0    0      1  \n",
              "606              0             0            0    0      1  \n",
              "607              0             0            0    0      1  \n",
              "608              0             0            0    0      1  \n",
              "609              0             0            0    0      1  \n",
              "\n",
              "[610 rows x 10 columns]"
            ],
            "text/html": [
              "\n",
              "  <div id=\"df-b3e3dec9-7918-4e65-98b9-b2e3eec447f6\">\n",
              "    <div class=\"colab-df-container\">\n",
              "      <div>\n",
              "<style scoped>\n",
              "    .dataframe tbody tr th:only-of-type {\n",
              "        vertical-align: middle;\n",
              "    }\n",
              "\n",
              "    .dataframe tbody tr th {\n",
              "        vertical-align: top;\n",
              "    }\n",
              "\n",
              "    .dataframe thead th {\n",
              "        text-align: right;\n",
              "    }\n",
              "</style>\n",
              "<table border=\"1\" class=\"dataframe\">\n",
              "  <thead>\n",
              "    <tr style=\"text-align: right;\">\n",
              "      <th></th>\n",
              "      <th>drink</th>\n",
              "      <th>Volume (ml)</th>\n",
              "      <th>Calories</th>\n",
              "      <th>Caffeine</th>\n",
              "      <th>Coffee</th>\n",
              "      <th>Energy Drinks</th>\n",
              "      <th>Energy Shots</th>\n",
              "      <th>Soft Drinks</th>\n",
              "      <th>Tea</th>\n",
              "      <th>Water</th>\n",
              "    </tr>\n",
              "  </thead>\n",
              "  <tbody>\n",
              "    <tr>\n",
              "      <th>0</th>\n",
              "      <td>Costa Coffee</td>\n",
              "      <td>256.993715</td>\n",
              "      <td>0</td>\n",
              "      <td>277</td>\n",
              "      <td>1</td>\n",
              "      <td>0</td>\n",
              "      <td>0</td>\n",
              "      <td>0</td>\n",
              "      <td>0</td>\n",
              "      <td>0</td>\n",
              "    </tr>\n",
              "    <tr>\n",
              "      <th>1</th>\n",
              "      <td>Coffee Friend Brewed Coffee</td>\n",
              "      <td>250.191810</td>\n",
              "      <td>0</td>\n",
              "      <td>145</td>\n",
              "      <td>1</td>\n",
              "      <td>0</td>\n",
              "      <td>0</td>\n",
              "      <td>0</td>\n",
              "      <td>0</td>\n",
              "      <td>0</td>\n",
              "    </tr>\n",
              "    <tr>\n",
              "      <th>2</th>\n",
              "      <td>Hell Energy Coffee</td>\n",
              "      <td>250.191810</td>\n",
              "      <td>150</td>\n",
              "      <td>100</td>\n",
              "      <td>1</td>\n",
              "      <td>0</td>\n",
              "      <td>0</td>\n",
              "      <td>0</td>\n",
              "      <td>0</td>\n",
              "      <td>0</td>\n",
              "    </tr>\n",
              "    <tr>\n",
              "      <th>3</th>\n",
              "      <td>Killer Coffee (AU)</td>\n",
              "      <td>250.191810</td>\n",
              "      <td>0</td>\n",
              "      <td>430</td>\n",
              "      <td>1</td>\n",
              "      <td>0</td>\n",
              "      <td>0</td>\n",
              "      <td>0</td>\n",
              "      <td>0</td>\n",
              "      <td>0</td>\n",
              "    </tr>\n",
              "    <tr>\n",
              "      <th>4</th>\n",
              "      <td>Nescafe Gold</td>\n",
              "      <td>250.191810</td>\n",
              "      <td>0</td>\n",
              "      <td>66</td>\n",
              "      <td>1</td>\n",
              "      <td>0</td>\n",
              "      <td>0</td>\n",
              "      <td>0</td>\n",
              "      <td>0</td>\n",
              "      <td>0</td>\n",
              "    </tr>\n",
              "    <tr>\n",
              "      <th>...</th>\n",
              "      <td>...</td>\n",
              "      <td>...</td>\n",
              "      <td>...</td>\n",
              "      <td>...</td>\n",
              "      <td>...</td>\n",
              "      <td>...</td>\n",
              "      <td>...</td>\n",
              "      <td>...</td>\n",
              "      <td>...</td>\n",
              "      <td>...</td>\n",
              "    </tr>\n",
              "    <tr>\n",
              "      <th>605</th>\n",
              "      <td>Pep Talk Sparkling Water</td>\n",
              "      <td>354.882000</td>\n",
              "      <td>0</td>\n",
              "      <td>55</td>\n",
              "      <td>0</td>\n",
              "      <td>0</td>\n",
              "      <td>0</td>\n",
              "      <td>0</td>\n",
              "      <td>0</td>\n",
              "      <td>1</td>\n",
              "    </tr>\n",
              "    <tr>\n",
              "      <th>606</th>\n",
              "      <td>Polar Seltzer Water</td>\n",
              "      <td>354.882000</td>\n",
              "      <td>0</td>\n",
              "      <td>0</td>\n",
              "      <td>0</td>\n",
              "      <td>0</td>\n",
              "      <td>0</td>\n",
              "      <td>0</td>\n",
              "      <td>0</td>\n",
              "      <td>1</td>\n",
              "    </tr>\n",
              "    <tr>\n",
              "      <th>607</th>\n",
              "      <td>Yerbae Sparkling Water</td>\n",
              "      <td>354.882000</td>\n",
              "      <td>0</td>\n",
              "      <td>100</td>\n",
              "      <td>0</td>\n",
              "      <td>0</td>\n",
              "      <td>0</td>\n",
              "      <td>0</td>\n",
              "      <td>0</td>\n",
              "      <td>1</td>\n",
              "    </tr>\n",
              "    <tr>\n",
              "      <th>608</th>\n",
              "      <td>Tonic Water</td>\n",
              "      <td>295.735000</td>\n",
              "      <td>110</td>\n",
              "      <td>0</td>\n",
              "      <td>0</td>\n",
              "      <td>0</td>\n",
              "      <td>0</td>\n",
              "      <td>0</td>\n",
              "      <td>0</td>\n",
              "      <td>1</td>\n",
              "    </tr>\n",
              "    <tr>\n",
              "      <th>609</th>\n",
              "      <td>MiO Energy Water Enhancer</td>\n",
              "      <td>236.588000</td>\n",
              "      <td>0</td>\n",
              "      <td>60</td>\n",
              "      <td>0</td>\n",
              "      <td>0</td>\n",
              "      <td>0</td>\n",
              "      <td>0</td>\n",
              "      <td>0</td>\n",
              "      <td>1</td>\n",
              "    </tr>\n",
              "  </tbody>\n",
              "</table>\n",
              "<p>610 rows × 10 columns</p>\n",
              "</div>\n",
              "      <button class=\"colab-df-convert\" onclick=\"convertToInteractive('df-b3e3dec9-7918-4e65-98b9-b2e3eec447f6')\"\n",
              "              title=\"Convert this dataframe to an interactive table.\"\n",
              "              style=\"display:none;\">\n",
              "        \n",
              "  <svg xmlns=\"http://www.w3.org/2000/svg\" height=\"24px\"viewBox=\"0 0 24 24\"\n",
              "       width=\"24px\">\n",
              "    <path d=\"M0 0h24v24H0V0z\" fill=\"none\"/>\n",
              "    <path d=\"M18.56 5.44l.94 2.06.94-2.06 2.06-.94-2.06-.94-.94-2.06-.94 2.06-2.06.94zm-11 1L8.5 8.5l.94-2.06 2.06-.94-2.06-.94L8.5 2.5l-.94 2.06-2.06.94zm10 10l.94 2.06.94-2.06 2.06-.94-2.06-.94-.94-2.06-.94 2.06-2.06.94z\"/><path d=\"M17.41 7.96l-1.37-1.37c-.4-.4-.92-.59-1.43-.59-.52 0-1.04.2-1.43.59L10.3 9.45l-7.72 7.72c-.78.78-.78 2.05 0 2.83L4 21.41c.39.39.9.59 1.41.59.51 0 1.02-.2 1.41-.59l7.78-7.78 2.81-2.81c.8-.78.8-2.07 0-2.86zM5.41 20L4 18.59l7.72-7.72 1.47 1.35L5.41 20z\"/>\n",
              "  </svg>\n",
              "      </button>\n",
              "      \n",
              "  <style>\n",
              "    .colab-df-container {\n",
              "      display:flex;\n",
              "      flex-wrap:wrap;\n",
              "      gap: 12px;\n",
              "    }\n",
              "\n",
              "    .colab-df-convert {\n",
              "      background-color: #E8F0FE;\n",
              "      border: none;\n",
              "      border-radius: 50%;\n",
              "      cursor: pointer;\n",
              "      display: none;\n",
              "      fill: #1967D2;\n",
              "      height: 32px;\n",
              "      padding: 0 0 0 0;\n",
              "      width: 32px;\n",
              "    }\n",
              "\n",
              "    .colab-df-convert:hover {\n",
              "      background-color: #E2EBFA;\n",
              "      box-shadow: 0px 1px 2px rgba(60, 64, 67, 0.3), 0px 1px 3px 1px rgba(60, 64, 67, 0.15);\n",
              "      fill: #174EA6;\n",
              "    }\n",
              "\n",
              "    [theme=dark] .colab-df-convert {\n",
              "      background-color: #3B4455;\n",
              "      fill: #D2E3FC;\n",
              "    }\n",
              "\n",
              "    [theme=dark] .colab-df-convert:hover {\n",
              "      background-color: #434B5C;\n",
              "      box-shadow: 0px 1px 3px 1px rgba(0, 0, 0, 0.15);\n",
              "      filter: drop-shadow(0px 1px 2px rgba(0, 0, 0, 0.3));\n",
              "      fill: #FFFFFF;\n",
              "    }\n",
              "  </style>\n",
              "\n",
              "      <script>\n",
              "        const buttonEl =\n",
              "          document.querySelector('#df-b3e3dec9-7918-4e65-98b9-b2e3eec447f6 button.colab-df-convert');\n",
              "        buttonEl.style.display =\n",
              "          google.colab.kernel.accessAllowed ? 'block' : 'none';\n",
              "\n",
              "        async function convertToInteractive(key) {\n",
              "          const element = document.querySelector('#df-b3e3dec9-7918-4e65-98b9-b2e3eec447f6');\n",
              "          const dataTable =\n",
              "            await google.colab.kernel.invokeFunction('convertToInteractive',\n",
              "                                                     [key], {});\n",
              "          if (!dataTable) return;\n",
              "\n",
              "          const docLinkHtml = 'Like what you see? Visit the ' +\n",
              "            '<a target=\"_blank\" href=https://colab.research.google.com/notebooks/data_table.ipynb>data table notebook</a>'\n",
              "            + ' to learn more about interactive tables.';\n",
              "          element.innerHTML = '';\n",
              "          dataTable['output_type'] = 'display_data';\n",
              "          await google.colab.output.renderOutput(dataTable, element);\n",
              "          const docLink = document.createElement('div');\n",
              "          docLink.innerHTML = docLinkHtml;\n",
              "          element.appendChild(docLink);\n",
              "        }\n",
              "      </script>\n",
              "    </div>\n",
              "  </div>\n",
              "  "
            ]
          },
          "metadata": {},
          "execution_count": 12
        }
      ]
    },
    {
      "cell_type": "code",
      "source": [
        "labelencoder =  LabelEncoder()\n",
        "#This fit_transform method fits the label encoder to the unique values in the 'drink' column and then transforms the values into encoded integers.\n",
        "df2['drink'] = labelencoder.fit_transform(df2['drink'])\n",
        "df2.info()"
      ],
      "metadata": {
        "colab": {
          "base_uri": "https://localhost:8080/"
        },
        "id": "LV5TS7SXyyVR",
        "outputId": "264418a5-7037-4fb5-a7fc-509363e02c20"
      },
      "execution_count": 13,
      "outputs": [
        {
          "output_type": "stream",
          "name": "stdout",
          "text": [
            "<class 'pandas.core.frame.DataFrame'>\n",
            "RangeIndex: 610 entries, 0 to 609\n",
            "Data columns (total 10 columns):\n",
            " #   Column         Non-Null Count  Dtype  \n",
            "---  ------         --------------  -----  \n",
            " 0   drink          610 non-null    int64  \n",
            " 1   Volume (ml)    610 non-null    float64\n",
            " 2   Calories       610 non-null    int64  \n",
            " 3   Caffeine       610 non-null    int64  \n",
            " 4   Coffee         610 non-null    uint8  \n",
            " 5   Energy Drinks  610 non-null    uint8  \n",
            " 6   Energy Shots   610 non-null    uint8  \n",
            " 7   Soft Drinks    610 non-null    uint8  \n",
            " 8   Tea            610 non-null    uint8  \n",
            " 9   Water          610 non-null    uint8  \n",
            "dtypes: float64(1), int64(3), uint8(6)\n",
            "memory usage: 22.8 KB\n"
          ]
        }
      ]
    },
    {
      "cell_type": "code",
      "source": [
        "#DataFrame using the np.vectorize function, which allows the function to be applied element-wise to the column.\n",
        "#The resulting binary values are stored in a NumPy array called cfinal."
      ],
      "metadata": {
        "id": "lwhQnITjXxFL"
      },
      "execution_count": 14,
      "outputs": []
    },
    {
      "cell_type": "code",
      "source": [
        "temp = np.array(df1[\"Caffeine\"])\n",
        "def caffeine_yesno(caffeine):\n",
        "    if (caffeine >= 100):\n",
        "        return 1\n",
        "    else:\n",
        "        return 0\n",
        "\n",
        "caff_v = np.vectorize(caffeine_yesno)\n",
        "cfinal = caff_v(temp)\n",
        "df2.drop(columns=[\"Caffeine\"])\n",
        "df2[\"Caffeine\"] = cfinal;\n",
        "df2.info()"
      ],
      "metadata": {
        "colab": {
          "base_uri": "https://localhost:8080/"
        },
        "id": "UAY1aVmKq3X0",
        "outputId": "fa968873-4508-4495-8be0-b9490ef5c80f"
      },
      "execution_count": 15,
      "outputs": [
        {
          "output_type": "stream",
          "name": "stdout",
          "text": [
            "<class 'pandas.core.frame.DataFrame'>\n",
            "RangeIndex: 610 entries, 0 to 609\n",
            "Data columns (total 10 columns):\n",
            " #   Column         Non-Null Count  Dtype  \n",
            "---  ------         --------------  -----  \n",
            " 0   drink          610 non-null    int64  \n",
            " 1   Volume (ml)    610 non-null    float64\n",
            " 2   Calories       610 non-null    int64  \n",
            " 3   Caffeine       610 non-null    int64  \n",
            " 4   Coffee         610 non-null    uint8  \n",
            " 5   Energy Drinks  610 non-null    uint8  \n",
            " 6   Energy Shots   610 non-null    uint8  \n",
            " 7   Soft Drinks    610 non-null    uint8  \n",
            " 8   Tea            610 non-null    uint8  \n",
            " 9   Water          610 non-null    uint8  \n",
            "dtypes: float64(1), int64(3), uint8(6)\n",
            "memory usage: 22.8 KB\n"
          ]
        }
      ]
    },
    {
      "cell_type": "code",
      "source": [
        "dat1 = df2\n",
        "dat1 = dat1.drop(columns=[\"Caffeine\"])\n"
      ],
      "metadata": {
        "id": "AHRn-lkpi8vM"
      },
      "execution_count": 16,
      "outputs": []
    },
    {
      "cell_type": "code",
      "source": [
        "dat1.insert(9, 'Caffeine', cfinal)\n",
        "dat1.head()"
      ],
      "metadata": {
        "colab": {
          "base_uri": "https://localhost:8080/",
          "height": 206
        },
        "id": "MlDZxCIfdTjO",
        "outputId": "7864bb80-cf7a-4dc7-e95f-392ecdedb014"
      },
      "execution_count": 17,
      "outputs": [
        {
          "output_type": "execute_result",
          "data": {
            "text/plain": [
              "   drink  Volume (ml)  Calories  Coffee  Energy Drinks  Energy Shots  \\\n",
              "0    141   256.993715         0       1              0             0   \n",
              "1    137   250.191810         0       1              0             0   \n",
              "2    233   250.191810       150       1              0             0   \n",
              "3    262   250.191810         0       1              0             0   \n",
              "4    342   250.191810         0       1              0             0   \n",
              "\n",
              "   Soft Drinks  Tea  Water  Caffeine  \n",
              "0            0    0      0         1  \n",
              "1            0    0      0         1  \n",
              "2            0    0      0         1  \n",
              "3            0    0      0         1  \n",
              "4            0    0      0         0  "
            ],
            "text/html": [
              "\n",
              "  <div id=\"df-f30fa20c-4f44-4caa-8e1e-dbcdd91149d0\">\n",
              "    <div class=\"colab-df-container\">\n",
              "      <div>\n",
              "<style scoped>\n",
              "    .dataframe tbody tr th:only-of-type {\n",
              "        vertical-align: middle;\n",
              "    }\n",
              "\n",
              "    .dataframe tbody tr th {\n",
              "        vertical-align: top;\n",
              "    }\n",
              "\n",
              "    .dataframe thead th {\n",
              "        text-align: right;\n",
              "    }\n",
              "</style>\n",
              "<table border=\"1\" class=\"dataframe\">\n",
              "  <thead>\n",
              "    <tr style=\"text-align: right;\">\n",
              "      <th></th>\n",
              "      <th>drink</th>\n",
              "      <th>Volume (ml)</th>\n",
              "      <th>Calories</th>\n",
              "      <th>Coffee</th>\n",
              "      <th>Energy Drinks</th>\n",
              "      <th>Energy Shots</th>\n",
              "      <th>Soft Drinks</th>\n",
              "      <th>Tea</th>\n",
              "      <th>Water</th>\n",
              "      <th>Caffeine</th>\n",
              "    </tr>\n",
              "  </thead>\n",
              "  <tbody>\n",
              "    <tr>\n",
              "      <th>0</th>\n",
              "      <td>141</td>\n",
              "      <td>256.993715</td>\n",
              "      <td>0</td>\n",
              "      <td>1</td>\n",
              "      <td>0</td>\n",
              "      <td>0</td>\n",
              "      <td>0</td>\n",
              "      <td>0</td>\n",
              "      <td>0</td>\n",
              "      <td>1</td>\n",
              "    </tr>\n",
              "    <tr>\n",
              "      <th>1</th>\n",
              "      <td>137</td>\n",
              "      <td>250.191810</td>\n",
              "      <td>0</td>\n",
              "      <td>1</td>\n",
              "      <td>0</td>\n",
              "      <td>0</td>\n",
              "      <td>0</td>\n",
              "      <td>0</td>\n",
              "      <td>0</td>\n",
              "      <td>1</td>\n",
              "    </tr>\n",
              "    <tr>\n",
              "      <th>2</th>\n",
              "      <td>233</td>\n",
              "      <td>250.191810</td>\n",
              "      <td>150</td>\n",
              "      <td>1</td>\n",
              "      <td>0</td>\n",
              "      <td>0</td>\n",
              "      <td>0</td>\n",
              "      <td>0</td>\n",
              "      <td>0</td>\n",
              "      <td>1</td>\n",
              "    </tr>\n",
              "    <tr>\n",
              "      <th>3</th>\n",
              "      <td>262</td>\n",
              "      <td>250.191810</td>\n",
              "      <td>0</td>\n",
              "      <td>1</td>\n",
              "      <td>0</td>\n",
              "      <td>0</td>\n",
              "      <td>0</td>\n",
              "      <td>0</td>\n",
              "      <td>0</td>\n",
              "      <td>1</td>\n",
              "    </tr>\n",
              "    <tr>\n",
              "      <th>4</th>\n",
              "      <td>342</td>\n",
              "      <td>250.191810</td>\n",
              "      <td>0</td>\n",
              "      <td>1</td>\n",
              "      <td>0</td>\n",
              "      <td>0</td>\n",
              "      <td>0</td>\n",
              "      <td>0</td>\n",
              "      <td>0</td>\n",
              "      <td>0</td>\n",
              "    </tr>\n",
              "  </tbody>\n",
              "</table>\n",
              "</div>\n",
              "      <button class=\"colab-df-convert\" onclick=\"convertToInteractive('df-f30fa20c-4f44-4caa-8e1e-dbcdd91149d0')\"\n",
              "              title=\"Convert this dataframe to an interactive table.\"\n",
              "              style=\"display:none;\">\n",
              "        \n",
              "  <svg xmlns=\"http://www.w3.org/2000/svg\" height=\"24px\"viewBox=\"0 0 24 24\"\n",
              "       width=\"24px\">\n",
              "    <path d=\"M0 0h24v24H0V0z\" fill=\"none\"/>\n",
              "    <path d=\"M18.56 5.44l.94 2.06.94-2.06 2.06-.94-2.06-.94-.94-2.06-.94 2.06-2.06.94zm-11 1L8.5 8.5l.94-2.06 2.06-.94-2.06-.94L8.5 2.5l-.94 2.06-2.06.94zm10 10l.94 2.06.94-2.06 2.06-.94-2.06-.94-.94-2.06-.94 2.06-2.06.94z\"/><path d=\"M17.41 7.96l-1.37-1.37c-.4-.4-.92-.59-1.43-.59-.52 0-1.04.2-1.43.59L10.3 9.45l-7.72 7.72c-.78.78-.78 2.05 0 2.83L4 21.41c.39.39.9.59 1.41.59.51 0 1.02-.2 1.41-.59l7.78-7.78 2.81-2.81c.8-.78.8-2.07 0-2.86zM5.41 20L4 18.59l7.72-7.72 1.47 1.35L5.41 20z\"/>\n",
              "  </svg>\n",
              "      </button>\n",
              "      \n",
              "  <style>\n",
              "    .colab-df-container {\n",
              "      display:flex;\n",
              "      flex-wrap:wrap;\n",
              "      gap: 12px;\n",
              "    }\n",
              "\n",
              "    .colab-df-convert {\n",
              "      background-color: #E8F0FE;\n",
              "      border: none;\n",
              "      border-radius: 50%;\n",
              "      cursor: pointer;\n",
              "      display: none;\n",
              "      fill: #1967D2;\n",
              "      height: 32px;\n",
              "      padding: 0 0 0 0;\n",
              "      width: 32px;\n",
              "    }\n",
              "\n",
              "    .colab-df-convert:hover {\n",
              "      background-color: #E2EBFA;\n",
              "      box-shadow: 0px 1px 2px rgba(60, 64, 67, 0.3), 0px 1px 3px 1px rgba(60, 64, 67, 0.15);\n",
              "      fill: #174EA6;\n",
              "    }\n",
              "\n",
              "    [theme=dark] .colab-df-convert {\n",
              "      background-color: #3B4455;\n",
              "      fill: #D2E3FC;\n",
              "    }\n",
              "\n",
              "    [theme=dark] .colab-df-convert:hover {\n",
              "      background-color: #434B5C;\n",
              "      box-shadow: 0px 1px 3px 1px rgba(0, 0, 0, 0.15);\n",
              "      filter: drop-shadow(0px 1px 2px rgba(0, 0, 0, 0.3));\n",
              "      fill: #FFFFFF;\n",
              "    }\n",
              "  </style>\n",
              "\n",
              "      <script>\n",
              "        const buttonEl =\n",
              "          document.querySelector('#df-f30fa20c-4f44-4caa-8e1e-dbcdd91149d0 button.colab-df-convert');\n",
              "        buttonEl.style.display =\n",
              "          google.colab.kernel.accessAllowed ? 'block' : 'none';\n",
              "\n",
              "        async function convertToInteractive(key) {\n",
              "          const element = document.querySelector('#df-f30fa20c-4f44-4caa-8e1e-dbcdd91149d0');\n",
              "          const dataTable =\n",
              "            await google.colab.kernel.invokeFunction('convertToInteractive',\n",
              "                                                     [key], {});\n",
              "          if (!dataTable) return;\n",
              "\n",
              "          const docLinkHtml = 'Like what you see? Visit the ' +\n",
              "            '<a target=\"_blank\" href=https://colab.research.google.com/notebooks/data_table.ipynb>data table notebook</a>'\n",
              "            + ' to learn more about interactive tables.';\n",
              "          element.innerHTML = '';\n",
              "          dataTable['output_type'] = 'display_data';\n",
              "          await google.colab.output.renderOutput(dataTable, element);\n",
              "          const docLink = document.createElement('div');\n",
              "          docLink.innerHTML = docLinkHtml;\n",
              "          element.appendChild(docLink);\n",
              "        }\n",
              "      </script>\n",
              "    </div>\n",
              "  </div>\n",
              "  "
            ]
          },
          "metadata": {},
          "execution_count": 17
        }
      ]
    },
    {
      "cell_type": "code",
      "source": [
        "dat1.info()"
      ],
      "metadata": {
        "colab": {
          "base_uri": "https://localhost:8080/"
        },
        "id": "OUv_y5MJqWLP",
        "outputId": "0347a550-8f72-488e-f052-235db8c9c182"
      },
      "execution_count": 18,
      "outputs": [
        {
          "output_type": "stream",
          "name": "stdout",
          "text": [
            "<class 'pandas.core.frame.DataFrame'>\n",
            "RangeIndex: 610 entries, 0 to 609\n",
            "Data columns (total 10 columns):\n",
            " #   Column         Non-Null Count  Dtype  \n",
            "---  ------         --------------  -----  \n",
            " 0   drink          610 non-null    int64  \n",
            " 1   Volume (ml)    610 non-null    float64\n",
            " 2   Calories       610 non-null    int64  \n",
            " 3   Coffee         610 non-null    uint8  \n",
            " 4   Energy Drinks  610 non-null    uint8  \n",
            " 5   Energy Shots   610 non-null    uint8  \n",
            " 6   Soft Drinks    610 non-null    uint8  \n",
            " 7   Tea            610 non-null    uint8  \n",
            " 8   Water          610 non-null    uint8  \n",
            " 9   Caffeine       610 non-null    int64  \n",
            "dtypes: float64(1), int64(3), uint8(6)\n",
            "memory usage: 22.8 KB\n"
          ]
        }
      ]
    },
    {
      "cell_type": "code",
      "source": [
        "\n",
        "y = dat1['Caffeine']\n",
        "x = dat1.drop('Caffeine', axis=1)"
      ],
      "metadata": {
        "id": "htHGucrwqdcM"
      },
      "execution_count": 19,
      "outputs": []
    },
    {
      "cell_type": "code",
      "source": [
        "#x is typically a NumPy array or Pandas DataFrame containing the features or independent variables of the dataset.\n",
        "#y is typically a NumPy array or Pandas Series containing the target or dependent variable of the dataset.\n",
        "#test_size is the proportion of the dataset to include in the testing subset. For example, test_size=0.4\n",
        "#means that 40% of the data will be used for testing and 60% will be used for training.\n",
        "#Other arguments include train_size, random_state, and shuffle, which control the size of the training subset,\n",
        "#the random seed used for splitting, and whether to shuffle the data before splitting, respectively."
      ],
      "metadata": {
        "id": "yucK_6nQYu7o"
      },
      "execution_count": 20,
      "outputs": []
    },
    {
      "cell_type": "code",
      "source": [
        "x_train, x_test, y_train, y_test = train_test_split(x, y, test_size=0.4)"
      ],
      "metadata": {
        "id": "dzCUPXlhqktr"
      },
      "execution_count": 21,
      "outputs": []
    },
    {
      "cell_type": "code",
      "source": [
        "#In the code you provided, a DecisionTreeClassifier is created and trained on the training data using the fit method.\n",
        "#The fit method takes two arguments: the features (x_train) and the target (y_train).\n",
        "#This creates a decision tree model that can be used to make predictions on new data.\n",
        "\n",
        "#The predict method is then used to make predictions on the testing data (x_test).\n",
        "#These predictions are stored in the dtPredictions variable.\n",
        "\n",
        "#Finally, the precision_score, recall_score, and f1_score functions from scikit-learn's metrics module are used to compute\n",
        "#the precision, recall, and F1 score of the model's predictions on the testing data.\n",
        "#These metrics are commonly used to evaluate the performance of binary classification models.\n",
        "\n",
        "#The precision_score measures the proportion of true positives (correctly predicted positives) among all predicted positives.\n",
        "#The recall_score measures the proportion of true positives among all actual positives.\n",
        "#The f1_score is the harmonic mean of precision and recall, and is a balanced measure that takes both precision and recall into account."
      ],
      "metadata": {
        "id": "xAMUI6QuZMRE"
      },
      "execution_count": 22,
      "outputs": []
    },
    {
      "cell_type": "markdown",
      "source": [
        "**Decision Tree Classification**"
      ],
      "metadata": {
        "id": "-wp2Kv9-sLXs"
      }
    },
    {
      "cell_type": "code",
      "source": [
        "#using decision trees\n",
        "dtclassifier = DecisionTreeClassifier()\n",
        "dtclassifier.fit(x_train, y_train)\n",
        "dtPredictions = dtclassifier.predict(x_test)\n",
        "precision = precision_score(y_test, dtPredictions)\n",
        "recall = recall_score(y_test, dtPredictions)\n",
        "f1 = f1_score(y_test, dtPredictions)\n"
      ],
      "metadata": {
        "id": "sFWfRUHAalv_"
      },
      "execution_count": 23,
      "outputs": []
    },
    {
      "cell_type": "code",
      "source": [
        "print(\"Accuracy score : {:.2f}\".format(dtclassifier.score(x_test, y_test)))\n",
        "print(\"Precision: {:.2f}\".format(precision))\n",
        "print(\"Recall: {:.2f}\".format(recall))\n",
        "print(\"F1-score: {:.2f}\".format(f1))"
      ],
      "metadata": {
        "colab": {
          "base_uri": "https://localhost:8080/"
        },
        "id": "tVAYxJvDcAQw",
        "outputId": "9d9f3034-27c2-4f71-acd3-5e9e5847058d"
      },
      "execution_count": 24,
      "outputs": [
        {
          "output_type": "stream",
          "name": "stdout",
          "text": [
            "Accuracy score : 0.84\n",
            "Precision: 0.86\n",
            "Recall: 0.85\n",
            "F1-score: 0.86\n"
          ]
        }
      ]
    },
    {
      "cell_type": "markdown",
      "source": [
        "**Naivebayes Classification**"
      ],
      "metadata": {
        "id": "TXh2rWSQsYyw"
      }
    },
    {
      "cell_type": "code",
      "source": [
        "#using Naivebayes classifier\n",
        "NB_Classifier = BernoulliNB()\n",
        "NB_Classifier.fit(x_train, y_train)\n",
        "NB_Predictions = NB_Classifier.predict(x_test)\n",
        "precision = precision_score(y_test, NB_Predictions)\n",
        "recall = recall_score(y_test, NB_Predictions)\n",
        "f1 = f1_score(y_test, NB_Predictions)"
      ],
      "metadata": {
        "id": "8dRI5NvcjRKV"
      },
      "execution_count": 25,
      "outputs": []
    },
    {
      "cell_type": "code",
      "source": [
        "print(\"Accuracy score : {:.2f}\".format(accuracy_score(NB_Predictions, y_test)))\n",
        "print(\"Precision: {:.2f}\".format(precision))\n",
        "print(\"Recall: {:.2f}\".format(recall))\n",
        "print(\"F1-score: {:.2f}\".format(f1))"
      ],
      "metadata": {
        "colab": {
          "base_uri": "https://localhost:8080/"
        },
        "id": "LLPMv58ojUT1",
        "outputId": "944f2bef-b032-4761-d461-256f8a06fa3a"
      },
      "execution_count": 26,
      "outputs": [
        {
          "output_type": "stream",
          "name": "stdout",
          "text": [
            "Accuracy score : 0.80\n",
            "Precision: 0.76\n",
            "Recall: 0.95\n",
            "F1-score: 0.84\n"
          ]
        }
      ]
    },
    {
      "cell_type": "markdown",
      "source": [
        "**Logistic Regression**"
      ],
      "metadata": {
        "id": "QSaszHjxsgY1"
      }
    },
    {
      "cell_type": "code",
      "source": [
        "#using logistic regression\n",
        "LR_clsifier = LogisticRegression(solver='lbfgs', max_iter=1000)\n",
        "LR_clsifier.fit(x_train, y_train)\n",
        "LR_Predictions = LR_clsifier.predict(x_test)\n",
        "precision = precision_score(y_test, LR_Predictions)\n",
        "recall = recall_score(y_test, LR_Predictions)\n",
        "f1 = f1_score(y_test, LR_Predictions)"
      ],
      "metadata": {
        "id": "siY3o10xqoyI"
      },
      "execution_count": 27,
      "outputs": []
    },
    {
      "cell_type": "code",
      "source": [
        "print(\"Accuracy score : {:.2f}\".format(accuracy_score(LR_Predictions, y_test)))\n",
        "print(\"Precision: {:.2f}\".format(precision))\n",
        "print(\"Recall: {:.2f}\".format(recall))\n",
        "print(\"F1-score: {:.2f}\".format(f1))"
      ],
      "metadata": {
        "colab": {
          "base_uri": "https://localhost:8080/"
        },
        "id": "Ovnu8BqDrK1W",
        "outputId": "9a2ca9ae-8a5d-421a-a7b0-0d894f4f0a1d"
      },
      "execution_count": 28,
      "outputs": [
        {
          "output_type": "stream",
          "name": "stdout",
          "text": [
            "Accuracy score : 0.87\n",
            "Precision: 0.84\n",
            "Recall: 0.95\n",
            "F1-score: 0.89\n"
          ]
        }
      ]
    },
    {
      "cell_type": "code",
      "source": [
        "print(y_test)"
      ],
      "metadata": {
        "colab": {
          "base_uri": "https://localhost:8080/"
        },
        "id": "n6gVIDfTskuD",
        "outputId": "09f36ea2-8ee6-481d-99aa-0da302f31ac8"
      },
      "execution_count": 29,
      "outputs": [
        {
          "output_type": "stream",
          "name": "stdout",
          "text": [
            "534    0\n",
            "24     0\n",
            "176    0\n",
            "443    0\n",
            "109    1\n",
            "      ..\n",
            "193    0\n",
            "320    0\n",
            "84     1\n",
            "72     1\n",
            "114    0\n",
            "Name: Caffeine, Length: 244, dtype: int64\n"
          ]
        }
      ]
    },
    {
      "cell_type": "code",
      "source": [
        "dat1.head(20)"
      ],
      "metadata": {
        "colab": {
          "base_uri": "https://localhost:8080/",
          "height": 677
        },
        "id": "94U1pcfWavbo",
        "outputId": "fcff8dda-be90-4cbe-d130-5dd7ae5b4967"
      },
      "execution_count": 30,
      "outputs": [
        {
          "output_type": "execute_result",
          "data": {
            "text/plain": [
              "    drink  Volume (ml)  Calories  Coffee  Energy Drinks  Energy Shots  \\\n",
              "0     141   256.993715         0       1              0             0   \n",
              "1     137   250.191810         0       1              0             0   \n",
              "2     233   250.191810       150       1              0             0   \n",
              "3     262   250.191810         0       1              0             0   \n",
              "4     342   250.191810         0       1              0             0   \n",
              "5     192   248.417400       170       1              0             0   \n",
              "6     172   239.545350        80       1              0             0   \n",
              "7     244   201.099800        45       1              0             0   \n",
              "8     493   192.227750       140       1              0             0   \n",
              "9     549   150.824850         0       1              0             0   \n",
              "10     63    78.961245         0       1              0             0   \n",
              "11    607   517.536250         0       1              0             0   \n",
              "12     43   500.087885       204       1              0             0   \n",
              "13    148   500.087885       429       1              0             0   \n",
              "14    559   500.087885       345       1              0             0   \n",
              "15     77   405.156950       260       1              0             0   \n",
              "16    484   405.156950       300       1              0             0   \n",
              "17    513   405.156950         0       1              0             0   \n",
              "18    581   405.156950       290       1              0             0   \n",
              "19    104   340.095250        10       1              0             0   \n",
              "\n",
              "    Soft Drinks  Tea  Water  Caffeine  \n",
              "0             0    0      0         1  \n",
              "1             0    0      0         1  \n",
              "2             0    0      0         1  \n",
              "3             0    0      0         1  \n",
              "4             0    0      0         0  \n",
              "5             0    0      0         1  \n",
              "6             0    0      0         1  \n",
              "7             0    0      0         1  \n",
              "8             0    0      0         1  \n",
              "9             0    0      0         0  \n",
              "10            0    0      0         1  \n",
              "11            0    0      0         1  \n",
              "12            0    0      0         1  \n",
              "13            0    0      0         1  \n",
              "14            0    0      0         1  \n",
              "15            0    0      0         1  \n",
              "16            0    0      0         1  \n",
              "17            0    0      0         1  \n",
              "18            0    0      0         0  \n",
              "19            0    0      0         1  "
            ],
            "text/html": [
              "\n",
              "  <div id=\"df-65217ac0-91db-4c70-b2e0-3e19c4952a57\">\n",
              "    <div class=\"colab-df-container\">\n",
              "      <div>\n",
              "<style scoped>\n",
              "    .dataframe tbody tr th:only-of-type {\n",
              "        vertical-align: middle;\n",
              "    }\n",
              "\n",
              "    .dataframe tbody tr th {\n",
              "        vertical-align: top;\n",
              "    }\n",
              "\n",
              "    .dataframe thead th {\n",
              "        text-align: right;\n",
              "    }\n",
              "</style>\n",
              "<table border=\"1\" class=\"dataframe\">\n",
              "  <thead>\n",
              "    <tr style=\"text-align: right;\">\n",
              "      <th></th>\n",
              "      <th>drink</th>\n",
              "      <th>Volume (ml)</th>\n",
              "      <th>Calories</th>\n",
              "      <th>Coffee</th>\n",
              "      <th>Energy Drinks</th>\n",
              "      <th>Energy Shots</th>\n",
              "      <th>Soft Drinks</th>\n",
              "      <th>Tea</th>\n",
              "      <th>Water</th>\n",
              "      <th>Caffeine</th>\n",
              "    </tr>\n",
              "  </thead>\n",
              "  <tbody>\n",
              "    <tr>\n",
              "      <th>0</th>\n",
              "      <td>141</td>\n",
              "      <td>256.993715</td>\n",
              "      <td>0</td>\n",
              "      <td>1</td>\n",
              "      <td>0</td>\n",
              "      <td>0</td>\n",
              "      <td>0</td>\n",
              "      <td>0</td>\n",
              "      <td>0</td>\n",
              "      <td>1</td>\n",
              "    </tr>\n",
              "    <tr>\n",
              "      <th>1</th>\n",
              "      <td>137</td>\n",
              "      <td>250.191810</td>\n",
              "      <td>0</td>\n",
              "      <td>1</td>\n",
              "      <td>0</td>\n",
              "      <td>0</td>\n",
              "      <td>0</td>\n",
              "      <td>0</td>\n",
              "      <td>0</td>\n",
              "      <td>1</td>\n",
              "    </tr>\n",
              "    <tr>\n",
              "      <th>2</th>\n",
              "      <td>233</td>\n",
              "      <td>250.191810</td>\n",
              "      <td>150</td>\n",
              "      <td>1</td>\n",
              "      <td>0</td>\n",
              "      <td>0</td>\n",
              "      <td>0</td>\n",
              "      <td>0</td>\n",
              "      <td>0</td>\n",
              "      <td>1</td>\n",
              "    </tr>\n",
              "    <tr>\n",
              "      <th>3</th>\n",
              "      <td>262</td>\n",
              "      <td>250.191810</td>\n",
              "      <td>0</td>\n",
              "      <td>1</td>\n",
              "      <td>0</td>\n",
              "      <td>0</td>\n",
              "      <td>0</td>\n",
              "      <td>0</td>\n",
              "      <td>0</td>\n",
              "      <td>1</td>\n",
              "    </tr>\n",
              "    <tr>\n",
              "      <th>4</th>\n",
              "      <td>342</td>\n",
              "      <td>250.191810</td>\n",
              "      <td>0</td>\n",
              "      <td>1</td>\n",
              "      <td>0</td>\n",
              "      <td>0</td>\n",
              "      <td>0</td>\n",
              "      <td>0</td>\n",
              "      <td>0</td>\n",
              "      <td>0</td>\n",
              "    </tr>\n",
              "    <tr>\n",
              "      <th>5</th>\n",
              "      <td>192</td>\n",
              "      <td>248.417400</td>\n",
              "      <td>170</td>\n",
              "      <td>1</td>\n",
              "      <td>0</td>\n",
              "      <td>0</td>\n",
              "      <td>0</td>\n",
              "      <td>0</td>\n",
              "      <td>0</td>\n",
              "      <td>1</td>\n",
              "    </tr>\n",
              "    <tr>\n",
              "      <th>6</th>\n",
              "      <td>172</td>\n",
              "      <td>239.545350</td>\n",
              "      <td>80</td>\n",
              "      <td>1</td>\n",
              "      <td>0</td>\n",
              "      <td>0</td>\n",
              "      <td>0</td>\n",
              "      <td>0</td>\n",
              "      <td>0</td>\n",
              "      <td>1</td>\n",
              "    </tr>\n",
              "    <tr>\n",
              "      <th>7</th>\n",
              "      <td>244</td>\n",
              "      <td>201.099800</td>\n",
              "      <td>45</td>\n",
              "      <td>1</td>\n",
              "      <td>0</td>\n",
              "      <td>0</td>\n",
              "      <td>0</td>\n",
              "      <td>0</td>\n",
              "      <td>0</td>\n",
              "      <td>1</td>\n",
              "    </tr>\n",
              "    <tr>\n",
              "      <th>8</th>\n",
              "      <td>493</td>\n",
              "      <td>192.227750</td>\n",
              "      <td>140</td>\n",
              "      <td>1</td>\n",
              "      <td>0</td>\n",
              "      <td>0</td>\n",
              "      <td>0</td>\n",
              "      <td>0</td>\n",
              "      <td>0</td>\n",
              "      <td>1</td>\n",
              "    </tr>\n",
              "    <tr>\n",
              "      <th>9</th>\n",
              "      <td>549</td>\n",
              "      <td>150.824850</td>\n",
              "      <td>0</td>\n",
              "      <td>1</td>\n",
              "      <td>0</td>\n",
              "      <td>0</td>\n",
              "      <td>0</td>\n",
              "      <td>0</td>\n",
              "      <td>0</td>\n",
              "      <td>0</td>\n",
              "    </tr>\n",
              "    <tr>\n",
              "      <th>10</th>\n",
              "      <td>63</td>\n",
              "      <td>78.961245</td>\n",
              "      <td>0</td>\n",
              "      <td>1</td>\n",
              "      <td>0</td>\n",
              "      <td>0</td>\n",
              "      <td>0</td>\n",
              "      <td>0</td>\n",
              "      <td>0</td>\n",
              "      <td>1</td>\n",
              "    </tr>\n",
              "    <tr>\n",
              "      <th>11</th>\n",
              "      <td>607</td>\n",
              "      <td>517.536250</td>\n",
              "      <td>0</td>\n",
              "      <td>1</td>\n",
              "      <td>0</td>\n",
              "      <td>0</td>\n",
              "      <td>0</td>\n",
              "      <td>0</td>\n",
              "      <td>0</td>\n",
              "      <td>1</td>\n",
              "    </tr>\n",
              "    <tr>\n",
              "      <th>12</th>\n",
              "      <td>43</td>\n",
              "      <td>500.087885</td>\n",
              "      <td>204</td>\n",
              "      <td>1</td>\n",
              "      <td>0</td>\n",
              "      <td>0</td>\n",
              "      <td>0</td>\n",
              "      <td>0</td>\n",
              "      <td>0</td>\n",
              "      <td>1</td>\n",
              "    </tr>\n",
              "    <tr>\n",
              "      <th>13</th>\n",
              "      <td>148</td>\n",
              "      <td>500.087885</td>\n",
              "      <td>429</td>\n",
              "      <td>1</td>\n",
              "      <td>0</td>\n",
              "      <td>0</td>\n",
              "      <td>0</td>\n",
              "      <td>0</td>\n",
              "      <td>0</td>\n",
              "      <td>1</td>\n",
              "    </tr>\n",
              "    <tr>\n",
              "      <th>14</th>\n",
              "      <td>559</td>\n",
              "      <td>500.087885</td>\n",
              "      <td>345</td>\n",
              "      <td>1</td>\n",
              "      <td>0</td>\n",
              "      <td>0</td>\n",
              "      <td>0</td>\n",
              "      <td>0</td>\n",
              "      <td>0</td>\n",
              "      <td>1</td>\n",
              "    </tr>\n",
              "    <tr>\n",
              "      <th>15</th>\n",
              "      <td>77</td>\n",
              "      <td>405.156950</td>\n",
              "      <td>260</td>\n",
              "      <td>1</td>\n",
              "      <td>0</td>\n",
              "      <td>0</td>\n",
              "      <td>0</td>\n",
              "      <td>0</td>\n",
              "      <td>0</td>\n",
              "      <td>1</td>\n",
              "    </tr>\n",
              "    <tr>\n",
              "      <th>16</th>\n",
              "      <td>484</td>\n",
              "      <td>405.156950</td>\n",
              "      <td>300</td>\n",
              "      <td>1</td>\n",
              "      <td>0</td>\n",
              "      <td>0</td>\n",
              "      <td>0</td>\n",
              "      <td>0</td>\n",
              "      <td>0</td>\n",
              "      <td>1</td>\n",
              "    </tr>\n",
              "    <tr>\n",
              "      <th>17</th>\n",
              "      <td>513</td>\n",
              "      <td>405.156950</td>\n",
              "      <td>0</td>\n",
              "      <td>1</td>\n",
              "      <td>0</td>\n",
              "      <td>0</td>\n",
              "      <td>0</td>\n",
              "      <td>0</td>\n",
              "      <td>0</td>\n",
              "      <td>1</td>\n",
              "    </tr>\n",
              "    <tr>\n",
              "      <th>18</th>\n",
              "      <td>581</td>\n",
              "      <td>405.156950</td>\n",
              "      <td>290</td>\n",
              "      <td>1</td>\n",
              "      <td>0</td>\n",
              "      <td>0</td>\n",
              "      <td>0</td>\n",
              "      <td>0</td>\n",
              "      <td>0</td>\n",
              "      <td>0</td>\n",
              "    </tr>\n",
              "    <tr>\n",
              "      <th>19</th>\n",
              "      <td>104</td>\n",
              "      <td>340.095250</td>\n",
              "      <td>10</td>\n",
              "      <td>1</td>\n",
              "      <td>0</td>\n",
              "      <td>0</td>\n",
              "      <td>0</td>\n",
              "      <td>0</td>\n",
              "      <td>0</td>\n",
              "      <td>1</td>\n",
              "    </tr>\n",
              "  </tbody>\n",
              "</table>\n",
              "</div>\n",
              "      <button class=\"colab-df-convert\" onclick=\"convertToInteractive('df-65217ac0-91db-4c70-b2e0-3e19c4952a57')\"\n",
              "              title=\"Convert this dataframe to an interactive table.\"\n",
              "              style=\"display:none;\">\n",
              "        \n",
              "  <svg xmlns=\"http://www.w3.org/2000/svg\" height=\"24px\"viewBox=\"0 0 24 24\"\n",
              "       width=\"24px\">\n",
              "    <path d=\"M0 0h24v24H0V0z\" fill=\"none\"/>\n",
              "    <path d=\"M18.56 5.44l.94 2.06.94-2.06 2.06-.94-2.06-.94-.94-2.06-.94 2.06-2.06.94zm-11 1L8.5 8.5l.94-2.06 2.06-.94-2.06-.94L8.5 2.5l-.94 2.06-2.06.94zm10 10l.94 2.06.94-2.06 2.06-.94-2.06-.94-.94-2.06-.94 2.06-2.06.94z\"/><path d=\"M17.41 7.96l-1.37-1.37c-.4-.4-.92-.59-1.43-.59-.52 0-1.04.2-1.43.59L10.3 9.45l-7.72 7.72c-.78.78-.78 2.05 0 2.83L4 21.41c.39.39.9.59 1.41.59.51 0 1.02-.2 1.41-.59l7.78-7.78 2.81-2.81c.8-.78.8-2.07 0-2.86zM5.41 20L4 18.59l7.72-7.72 1.47 1.35L5.41 20z\"/>\n",
              "  </svg>\n",
              "      </button>\n",
              "      \n",
              "  <style>\n",
              "    .colab-df-container {\n",
              "      display:flex;\n",
              "      flex-wrap:wrap;\n",
              "      gap: 12px;\n",
              "    }\n",
              "\n",
              "    .colab-df-convert {\n",
              "      background-color: #E8F0FE;\n",
              "      border: none;\n",
              "      border-radius: 50%;\n",
              "      cursor: pointer;\n",
              "      display: none;\n",
              "      fill: #1967D2;\n",
              "      height: 32px;\n",
              "      padding: 0 0 0 0;\n",
              "      width: 32px;\n",
              "    }\n",
              "\n",
              "    .colab-df-convert:hover {\n",
              "      background-color: #E2EBFA;\n",
              "      box-shadow: 0px 1px 2px rgba(60, 64, 67, 0.3), 0px 1px 3px 1px rgba(60, 64, 67, 0.15);\n",
              "      fill: #174EA6;\n",
              "    }\n",
              "\n",
              "    [theme=dark] .colab-df-convert {\n",
              "      background-color: #3B4455;\n",
              "      fill: #D2E3FC;\n",
              "    }\n",
              "\n",
              "    [theme=dark] .colab-df-convert:hover {\n",
              "      background-color: #434B5C;\n",
              "      box-shadow: 0px 1px 3px 1px rgba(0, 0, 0, 0.15);\n",
              "      filter: drop-shadow(0px 1px 2px rgba(0, 0, 0, 0.3));\n",
              "      fill: #FFFFFF;\n",
              "    }\n",
              "  </style>\n",
              "\n",
              "      <script>\n",
              "        const buttonEl =\n",
              "          document.querySelector('#df-65217ac0-91db-4c70-b2e0-3e19c4952a57 button.colab-df-convert');\n",
              "        buttonEl.style.display =\n",
              "          google.colab.kernel.accessAllowed ? 'block' : 'none';\n",
              "\n",
              "        async function convertToInteractive(key) {\n",
              "          const element = document.querySelector('#df-65217ac0-91db-4c70-b2e0-3e19c4952a57');\n",
              "          const dataTable =\n",
              "            await google.colab.kernel.invokeFunction('convertToInteractive',\n",
              "                                                     [key], {});\n",
              "          if (!dataTable) return;\n",
              "\n",
              "          const docLinkHtml = 'Like what you see? Visit the ' +\n",
              "            '<a target=\"_blank\" href=https://colab.research.google.com/notebooks/data_table.ipynb>data table notebook</a>'\n",
              "            + ' to learn more about interactive tables.';\n",
              "          element.innerHTML = '';\n",
              "          dataTable['output_type'] = 'display_data';\n",
              "          await google.colab.output.renderOutput(dataTable, element);\n",
              "          const docLink = document.createElement('div');\n",
              "          docLink.innerHTML = docLinkHtml;\n",
              "          element.appendChild(docLink);\n",
              "        }\n",
              "      </script>\n",
              "    </div>\n",
              "  </div>\n",
              "  "
            ]
          },
          "metadata": {},
          "execution_count": 30
        }
      ]
    },
    {
      "cell_type": "code",
      "source": [
        "m = LogisticRegression(max_iter = 1000)\n",
        "m.fit(x,y)"
      ],
      "metadata": {
        "colab": {
          "base_uri": "https://localhost:8080/",
          "height": 75
        },
        "id": "zxe9cEzIgKFp",
        "outputId": "8292ab4b-2500-4688-c20f-6f488dca4583"
      },
      "execution_count": 31,
      "outputs": [
        {
          "output_type": "execute_result",
          "data": {
            "text/plain": [
              "LogisticRegression(max_iter=1000)"
            ],
            "text/html": [
              "<style>#sk-container-id-1 {color: black;background-color: white;}#sk-container-id-1 pre{padding: 0;}#sk-container-id-1 div.sk-toggleable {background-color: white;}#sk-container-id-1 label.sk-toggleable__label {cursor: pointer;display: block;width: 100%;margin-bottom: 0;padding: 0.3em;box-sizing: border-box;text-align: center;}#sk-container-id-1 label.sk-toggleable__label-arrow:before {content: \"▸\";float: left;margin-right: 0.25em;color: #696969;}#sk-container-id-1 label.sk-toggleable__label-arrow:hover:before {color: black;}#sk-container-id-1 div.sk-estimator:hover label.sk-toggleable__label-arrow:before {color: black;}#sk-container-id-1 div.sk-toggleable__content {max-height: 0;max-width: 0;overflow: hidden;text-align: left;background-color: #f0f8ff;}#sk-container-id-1 div.sk-toggleable__content pre {margin: 0.2em;color: black;border-radius: 0.25em;background-color: #f0f8ff;}#sk-container-id-1 input.sk-toggleable__control:checked~div.sk-toggleable__content {max-height: 200px;max-width: 100%;overflow: auto;}#sk-container-id-1 input.sk-toggleable__control:checked~label.sk-toggleable__label-arrow:before {content: \"▾\";}#sk-container-id-1 div.sk-estimator input.sk-toggleable__control:checked~label.sk-toggleable__label {background-color: #d4ebff;}#sk-container-id-1 div.sk-label input.sk-toggleable__control:checked~label.sk-toggleable__label {background-color: #d4ebff;}#sk-container-id-1 input.sk-hidden--visually {border: 0;clip: rect(1px 1px 1px 1px);clip: rect(1px, 1px, 1px, 1px);height: 1px;margin: -1px;overflow: hidden;padding: 0;position: absolute;width: 1px;}#sk-container-id-1 div.sk-estimator {font-family: monospace;background-color: #f0f8ff;border: 1px dotted black;border-radius: 0.25em;box-sizing: border-box;margin-bottom: 0.5em;}#sk-container-id-1 div.sk-estimator:hover {background-color: #d4ebff;}#sk-container-id-1 div.sk-parallel-item::after {content: \"\";width: 100%;border-bottom: 1px solid gray;flex-grow: 1;}#sk-container-id-1 div.sk-label:hover label.sk-toggleable__label {background-color: #d4ebff;}#sk-container-id-1 div.sk-serial::before {content: \"\";position: absolute;border-left: 1px solid gray;box-sizing: border-box;top: 0;bottom: 0;left: 50%;z-index: 0;}#sk-container-id-1 div.sk-serial {display: flex;flex-direction: column;align-items: center;background-color: white;padding-right: 0.2em;padding-left: 0.2em;position: relative;}#sk-container-id-1 div.sk-item {position: relative;z-index: 1;}#sk-container-id-1 div.sk-parallel {display: flex;align-items: stretch;justify-content: center;background-color: white;position: relative;}#sk-container-id-1 div.sk-item::before, #sk-container-id-1 div.sk-parallel-item::before {content: \"\";position: absolute;border-left: 1px solid gray;box-sizing: border-box;top: 0;bottom: 0;left: 50%;z-index: -1;}#sk-container-id-1 div.sk-parallel-item {display: flex;flex-direction: column;z-index: 1;position: relative;background-color: white;}#sk-container-id-1 div.sk-parallel-item:first-child::after {align-self: flex-end;width: 50%;}#sk-container-id-1 div.sk-parallel-item:last-child::after {align-self: flex-start;width: 50%;}#sk-container-id-1 div.sk-parallel-item:only-child::after {width: 0;}#sk-container-id-1 div.sk-dashed-wrapped {border: 1px dashed gray;margin: 0 0.4em 0.5em 0.4em;box-sizing: border-box;padding-bottom: 0.4em;background-color: white;}#sk-container-id-1 div.sk-label label {font-family: monospace;font-weight: bold;display: inline-block;line-height: 1.2em;}#sk-container-id-1 div.sk-label-container {text-align: center;}#sk-container-id-1 div.sk-container {/* jupyter's `normalize.less` sets `[hidden] { display: none; }` but bootstrap.min.css set `[hidden] { display: none !important; }` so we also need the `!important` here to be able to override the default hidden behavior on the sphinx rendered scikit-learn.org. See: https://github.com/scikit-learn/scikit-learn/issues/21755 */display: inline-block !important;position: relative;}#sk-container-id-1 div.sk-text-repr-fallback {display: none;}</style><div id=\"sk-container-id-1\" class=\"sk-top-container\"><div class=\"sk-text-repr-fallback\"><pre>LogisticRegression(max_iter=1000)</pre><b>In a Jupyter environment, please rerun this cell to show the HTML representation or trust the notebook. <br />On GitHub, the HTML representation is unable to render, please try loading this page with nbviewer.org.</b></div><div class=\"sk-container\" hidden><div class=\"sk-item\"><div class=\"sk-estimator sk-toggleable\"><input class=\"sk-toggleable__control sk-hidden--visually\" id=\"sk-estimator-id-1\" type=\"checkbox\" checked><label for=\"sk-estimator-id-1\" class=\"sk-toggleable__label sk-toggleable__label-arrow\">LogisticRegression</label><div class=\"sk-toggleable__content\"><pre>LogisticRegression(max_iter=1000)</pre></div></div></div></div></div>"
            ]
          },
          "metadata": {},
          "execution_count": 31
        }
      ]
    },
    {
      "cell_type": "code",
      "source": [
        "import joblib\n",
        "joblib.dump(m,\"caffeine (1).csv\")\n",
        "mod = joblib.load(\"caffeine (1).csv\")"
      ],
      "metadata": {
        "id": "OG5VhFf6gmAO"
      },
      "execution_count": 32,
      "outputs": []
    },
    {
      "cell_type": "markdown",
      "source": [
        "**Example Input**"
      ],
      "metadata": {
        "id": "bFFVRMaNsnt0"
      }
    },
    {
      "cell_type": "code",
      "source": [
        "pred = mod.predict([[141,256.993715,0,1,0,0,0,0,0]])\n",
        "if pred == 1:\n",
        "  print(\"High Coffee Content\")\n",
        "else:\n",
        "  print(\"Low Coffee Content\")"
      ],
      "metadata": {
        "colab": {
          "base_uri": "https://localhost:8080/"
        },
        "id": "I10Tfzgng18e",
        "outputId": "f8fe2e30-3b14-413b-d0da-9d22f5451ea7"
      },
      "execution_count": 33,
      "outputs": [
        {
          "output_type": "stream",
          "name": "stdout",
          "text": [
            "High Coffee Content\n"
          ]
        },
        {
          "output_type": "stream",
          "name": "stderr",
          "text": [
            "/usr/local/lib/python3.10/dist-packages/sklearn/base.py:439: UserWarning: X does not have valid feature names, but LogisticRegression was fitted with feature names\n",
            "  warnings.warn(\n"
          ]
        }
      ]
    }
  ]
}